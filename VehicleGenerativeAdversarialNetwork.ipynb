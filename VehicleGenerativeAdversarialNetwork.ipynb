{
  "cells": [
    {
      "cell_type": "markdown",
      "metadata": {
        "id": "dYDA8fMArzLU"
      },
      "source": [
        "## Imports"
      ]
    },
    {
      "cell_type": "code",
      "execution_count": null,
      "metadata": {
        "id": "ShGMxuNBrxL5"
      },
      "outputs": [],
      "source": [
        "import tensorflow as tf\n",
        "from tensorflow import keras\n",
        "import numpy as np\n",
        "import pandas as pd\n",
        "import os\n",
        "\n",
        "from tensorflow.keras.models import Sequential\n",
        "from tensorflow.keras.layers import Dense, Conv2D, MaxPooling2D, Dropout, Flatten, Reshape, UpSampling2D, LeakyReLU, Conv2DTranspose"
      ]
    },
    {
      "cell_type": "markdown",
      "metadata": {
        "id": "PvS-EIrIr4TN"
      },
      "source": [
        "## Image Pipeline"
      ]
    },
    {
      "cell_type": "code",
      "execution_count": null,
      "metadata": {
        "colab": {
          "base_uri": "https://localhost:8080/"
        },
        "id": "EMg5fGQVr8xr",
        "outputId": "75123ab5-30e0-4e4d-e876-62f8299df014"
      },
      "outputs": [
        {
          "name": "stdout",
          "output_type": "stream",
          "text": [
            "Found 1321 files belonging to 1 classes.\n"
          ]
        }
      ],
      "source": [
        "dataset = keras.preprocessing.image_dataset_from_directory(\n",
        "    directory=\"/content/drive/MyDrive/classified_imgs/\", \n",
        "    label_mode=None, \n",
        "    image_size=(96, 96), \n",
        "    batch_size=32,\n",
        "    shuffle=True\n",
        ")\n",
        "\n",
        "batch_size = 32"
      ]
    },
    {
      "cell_type": "markdown",
      "metadata": {
        "id": "D4XiICSLrp2P"
      },
      "source": [
        "## Generator Models"
      ]
    },
    {
      "cell_type": "code",
      "execution_count": null,
      "metadata": {
        "colab": {
          "base_uri": "https://localhost:8080/"
        },
        "id": "TcqyYhgWrsx4",
        "outputId": "8b2a0c81-d292-4210-fa35-d5acc5fdec5a"
      },
      "outputs": [
        {
          "name": "stdout",
          "output_type": "stream",
          "text": [
            "Model: \"sequential\"\n",
            "_________________________________________________________________\n",
            " Layer (type)                Output Shape              Param #   \n",
            "=================================================================\n",
            " dense (Dense)               (None, 18432)             2377728   \n",
            "                                                                 \n",
            " reshape (Reshape)           (None, 12, 12, 128)       0         \n",
            "                                                                 \n",
            " conv2d_transpose (Conv2DTra  (None, 24, 24, 64)       131136    \n",
            " nspose)                                                         \n",
            "                                                                 \n",
            " conv2d_transpose_1 (Conv2DT  (None, 48, 48, 128)      131200    \n",
            " ranspose)                                                       \n",
            "                                                                 \n",
            " conv2d_transpose_2 (Conv2DT  (None, 96, 96, 256)      524544    \n",
            " ranspose)                                                       \n",
            "                                                                 \n",
            " conv2d (Conv2D)             (None, 96, 96, 3)         12291     \n",
            "                                                                 \n",
            "=================================================================\n",
            "Total params: 3,176,899\n",
            "Trainable params: 3,176,899\n",
            "Non-trainable params: 0\n",
            "_________________________________________________________________\n"
          ]
        }
      ],
      "source": [
        "generator_model = Sequential()\n",
        "\n",
        "generator_model.add(Dense(12*12*128, \n",
        "                          input_dim=128, \n",
        "                          activation=LeakyReLU(0.25)))\n",
        "\n",
        "generator_model.add(Reshape((12, 12, 128)))\n",
        "\n",
        "#generator_model.add(UpSampling2D())\n",
        "\n",
        "generator_model.add(Conv2DTranspose(64, \n",
        "                           kernel_size=(4, 4), \n",
        "                           strides=(2, 2), \n",
        "                           padding='same', \n",
        "                           activation=LeakyReLU(0.25)))\n",
        "\n",
        "#generator_model.add(UpSampling2D())\n",
        "\n",
        "generator_model.add(Conv2DTranspose(128, \n",
        "                           kernel_size=(4, 4), \n",
        "                           strides=(2, 2), \n",
        "                           padding='same', \n",
        "                           activation=LeakyReLU(0.25)))\n",
        "\n",
        "#generator_model.add(UpSampling2D())\n",
        "\n",
        "generator_model.add(Conv2DTranspose(256, \n",
        "                           kernel_size=(4, 4), \n",
        "                           strides=(2, 2), \n",
        "                           padding='same', \n",
        "                           activation=LeakyReLU(0.25)))\n",
        "\n",
        "\n",
        "generator_model.add(Conv2D(3, # 3 output channels because input image is RGB\n",
        "                           kernel_size=(4, 4), \n",
        "                           padding='same', \n",
        "                           activation='sigmoid'))\n",
        "\n",
        "generator_model.summary()"
      ]
    },
    {
      "cell_type": "code",
      "execution_count": null,
      "metadata": {
        "colab": {
          "base_uri": "https://localhost:8080/"
        },
        "id": "g6-HQDg0PPyd",
        "outputId": "1bb2eced-aeea-4784-c2d3-4bde7a32f889"
      },
      "outputs": [
        {
          "name": "stdout",
          "output_type": "stream",
          "text": [
            "Model: \"sequential_2\"\n",
            "_________________________________________________________________\n",
            " Layer (type)                Output Shape              Param #   \n",
            "=================================================================\n",
            " dense_2 (Dense)             (None, 8192)              1056768   \n",
            "                                                                 \n",
            " reshape_2 (Reshape)         (None, 8, 8, 128)         0         \n",
            "                                                                 \n",
            " conv2d_transpose_7 (Conv2DT  (None, 16, 16, 32)       36896     \n",
            " ranspose)                                                       \n",
            "                                                                 \n",
            " conv2d_transpose_8 (Conv2DT  (None, 32, 32, 128)      36992     \n",
            " ranspose)                                                       \n",
            "                                                                 \n",
            " conv2d_transpose_9 (Conv2DT  (None, 64, 64, 128)      147584    \n",
            " ranspose)                                                       \n",
            "                                                                 \n",
            " conv2d_transpose_10 (Conv2D  (None, 128, 128, 128)    147584    \n",
            " Transpose)                                                      \n",
            "                                                                 \n",
            " conv2d_2 (Conv2D)           (None, 128, 128, 3)       6147      \n",
            "                                                                 \n",
            "=================================================================\n",
            "Total params: 1,431,971\n",
            "Trainable params: 1,431,971\n",
            "Non-trainable params: 0\n",
            "_________________________________________________________________\n"
          ]
        }
      ],
      "source": [
        "generator_model = Sequential()\n",
        "\n",
        "generator_model.add(Dense(8*8*128, \n",
        "                          input_dim=128, \n",
        "                          activation=LeakyReLU(0.25)))\n",
        "\n",
        "generator_model.add(Reshape((8, 8, 128)))\n",
        "\n",
        "generator_model.add(Conv2DTranspose(32, \n",
        "                           kernel_size=(3, 3), \n",
        "                           strides=(2, 2), \n",
        "                           padding='same', \n",
        "                           activation=LeakyReLU(0.25)))\n",
        "\n",
        "generator_model.add(Conv2DTranspose(128, \n",
        "                           kernel_size=(3, 3), \n",
        "                           strides=(2, 2), \n",
        "                           padding='same', \n",
        "                           activation=LeakyReLU(0.25)))\n",
        "\n",
        "generator_model.add(Conv2DTranspose(128, \n",
        "                           kernel_size=(3, 3), \n",
        "                           strides=(2, 2), \n",
        "                           padding='same', \n",
        "                           activation=LeakyReLU(0.25)))\n",
        "\n",
        "generator_model.add(Conv2DTranspose(128, \n",
        "                           kernel_size=(3, 3), \n",
        "                           strides=(2, 2), \n",
        "                           padding='same', \n",
        "                           activation=LeakyReLU(0.25)))\n",
        "\n",
        "\n",
        "generator_model.add(Conv2D(3, \n",
        "                           kernel_size=(4, 4), \n",
        "                           padding='same', \n",
        "                           activation='sigmoid'))\n",
        "\n",
        "generator_model.summary()"
      ]
    },
    {
      "cell_type": "markdown",
      "metadata": {
        "id": "oY_WdU2Org-e"
      },
      "source": [
        "## Discriminator Models"
      ]
    },
    {
      "cell_type": "code",
      "execution_count": null,
      "metadata": {
        "colab": {
          "base_uri": "https://localhost:8080/"
        },
        "id": "obiW3qaYQLjB",
        "outputId": "47324dff-de71-4591-800f-b2da667052d3"
      },
      "outputs": [
        {
          "name": "stdout",
          "output_type": "stream",
          "text": [
            "Model: \"sequential_4\"\n",
            "_________________________________________________________________\n",
            " Layer (type)                Output Shape              Param #   \n",
            "=================================================================\n",
            " conv2d_6 (Conv2D)           (None, 32, 32, 32)        896       \n",
            "                                                                 \n",
            " dropout_3 (Dropout)         (None, 32, 32, 32)        0         \n",
            "                                                                 \n",
            " conv2d_7 (Conv2D)           (None, 16, 16, 128)       36992     \n",
            "                                                                 \n",
            " dropout_4 (Dropout)         (None, 16, 16, 128)       0         \n",
            "                                                                 \n",
            " conv2d_8 (Conv2D)           (None, 8, 8, 256)         295168    \n",
            "                                                                 \n",
            " dropout_5 (Dropout)         (None, 8, 8, 256)         0         \n",
            "                                                                 \n",
            " flatten_1 (Flatten)         (None, 16384)             0         \n",
            "                                                                 \n",
            " dense_4 (Dense)             (None, 1)                 16385     \n",
            "                                                                 \n",
            "=================================================================\n",
            "Total params: 349,441\n",
            "Trainable params: 349,441\n",
            "Non-trainable params: 0\n",
            "_________________________________________________________________\n"
          ]
        }
      ],
      "source": [
        "input_shape=(64, 64, 3)\n",
        "\n",
        "discriminator_model = Sequential()\n",
        "\n",
        "discriminator_model.add(Conv2D(32, \n",
        "                               kernel_size=(3, 3), \n",
        "                               strides=(2,2), \n",
        "                               padding='same', \n",
        "                               activation=LeakyReLU(alpha=0.2), \n",
        "                               input_shape=input_shape))\n",
        "\n",
        "discriminator_model.add(Dropout(0.25))\n",
        "\n",
        "discriminator_model.add(Conv2D(128, \n",
        "                               kernel_size=(3, 3), \n",
        "                               strides=(2,2), \n",
        "                               padding='same', \n",
        "                               activation=LeakyReLU(alpha=0.2)))\n",
        "\n",
        "discriminator_model.add(Dropout(0.25))\n",
        "\n",
        "discriminator_model.add(Conv2D(256, \n",
        "                               kernel_size=(3, 3), \n",
        "                               strides=(2,2), \n",
        "                               padding='same', \n",
        "                               activation=LeakyReLU(alpha=0.2)))\n",
        "\n",
        "discriminator_model.add(Dropout(0.25))\n",
        "\n",
        "discriminator_model.add(Flatten())\n",
        "\n",
        "discriminator_model.add(Dense(1, activation='sigmoid'))\n",
        "\n",
        "discriminator_model.summary()\n"
      ]
    },
    {
      "cell_type": "code",
      "execution_count": null,
      "metadata": {
        "colab": {
          "base_uri": "https://localhost:8080/"
        },
        "id": "x-8CJ_MOrQHH",
        "outputId": "203c9dcb-7f2a-45cf-f7f9-788d40734f38"
      },
      "outputs": [
        {
          "name": "stdout",
          "output_type": "stream",
          "text": [
            "Model: \"sequential_5\"\n",
            "_________________________________________________________________\n",
            " Layer (type)                Output Shape              Param #   \n",
            "=================================================================\n",
            " conv2d_9 (Conv2D)           (None, 48, 48, 32)        896       \n",
            "                                                                 \n",
            " dropout_6 (Dropout)         (None, 48, 48, 32)        0         \n",
            "                                                                 \n",
            " conv2d_10 (Conv2D)          (None, 24, 24, 128)       65664     \n",
            "                                                                 \n",
            " dropout_7 (Dropout)         (None, 24, 24, 128)       0         \n",
            "                                                                 \n",
            " conv2d_11 (Conv2D)          (None, 12, 12, 128)       262272    \n",
            "                                                                 \n",
            " dropout_8 (Dropout)         (None, 12, 12, 128)       0         \n",
            "                                                                 \n",
            " flatten_2 (Flatten)         (None, 18432)             0         \n",
            "                                                                 \n",
            " dense_5 (Dense)             (None, 1)                 18433     \n",
            "                                                                 \n",
            "=================================================================\n",
            "Total params: 347,265\n",
            "Trainable params: 347,265\n",
            "Non-trainable params: 0\n",
            "_________________________________________________________________\n"
          ]
        }
      ],
      "source": [
        "input_shape=(96, 96, 3)\n",
        "\n",
        "discriminator_model = Sequential()\n",
        "\n",
        "discriminator_model.add(Conv2D(32, \n",
        "                               kernel_size=(3, 3), \n",
        "                               strides=(2,2), \n",
        "                               padding='same', \n",
        "                               activation='relu', \n",
        "                               input_shape=input_shape))\n",
        "\n",
        "discriminator_model.add(Dropout(0.25))\n",
        "\n",
        "discriminator_model.add(Conv2D(128, \n",
        "                               kernel_size=(4, 4), \n",
        "                               strides=(2,2), \n",
        "                               padding='same', \n",
        "                               activation='relu'))\n",
        "\n",
        "discriminator_model.add(Dropout(0.25))\n",
        "\n",
        "discriminator_model.add(Conv2D(128, \n",
        "                               kernel_size=(4, 4), \n",
        "                               strides=(2,2), \n",
        "                               padding='same', \n",
        "                               activation='relu'))\n",
        "\n",
        "discriminator_model.add(Dropout(0.25))\n",
        "\n",
        "discriminator_model.add(Flatten())\n",
        "\n",
        "discriminator_model.add(Dense(1, activation='sigmoid'))\n",
        "\n",
        "discriminator_model.summary()"
      ]
    },
    {
      "cell_type": "code",
      "execution_count": null,
      "metadata": {
        "colab": {
          "base_uri": "https://localhost:8080/"
        },
        "id": "Z4y6kMDQro2x",
        "outputId": "64763e3c-f33f-49a1-abaf-963f68da5740"
      },
      "outputs": [
        {
          "name": "stdout",
          "output_type": "stream",
          "text": [
            "Model: \"sequential_6\"\n",
            "_________________________________________________________________\n",
            " Layer (type)                Output Shape              Param #   \n",
            "=================================================================\n",
            " conv2d_12 (Conv2D)          (None, 64, 64, 32)        896       \n",
            "                                                                 \n",
            " dropout_9 (Dropout)         (None, 64, 64, 32)        0         \n",
            "                                                                 \n",
            " conv2d_13 (Conv2D)          (None, 32, 32, 128)       65664     \n",
            "                                                                 \n",
            " dropout_10 (Dropout)        (None, 32, 32, 128)       0         \n",
            "                                                                 \n",
            " conv2d_14 (Conv2D)          (None, 16, 16, 128)       262272    \n",
            "                                                                 \n",
            " dropout_11 (Dropout)        (None, 16, 16, 128)       0         \n",
            "                                                                 \n",
            " conv2d_15 (Conv2D)          (None, 8, 8, 128)         262272    \n",
            "                                                                 \n",
            " dropout_12 (Dropout)        (None, 8, 8, 128)         0         \n",
            "                                                                 \n",
            " flatten_3 (Flatten)         (None, 8192)              0         \n",
            "                                                                 \n",
            " dense_6 (Dense)             (None, 1)                 8193      \n",
            "                                                                 \n",
            "=================================================================\n",
            "Total params: 599,297\n",
            "Trainable params: 599,297\n",
            "Non-trainable params: 0\n",
            "_________________________________________________________________\n"
          ]
        }
      ],
      "source": [
        "input_shape=(128, 128, 3)\n",
        "\n",
        "discriminator_model = Sequential()\n",
        "\n",
        "discriminator_model.add(Conv2D(32, \n",
        "                               kernel_size=(3, 3), \n",
        "                               strides=(2,2), \n",
        "                               padding='same', \n",
        "                               activation=LeakyReLU(alpha=0.2), \n",
        "                               input_shape=input_shape))\n",
        "\n",
        "discriminator_model.add(Dropout(0.2))\n",
        "\n",
        "discriminator_model.add(Conv2D(128, \n",
        "                               kernel_size=(4, 4), \n",
        "                               strides=(2,2), \n",
        "                               padding='same', \n",
        "                               activation=LeakyReLU(alpha=0.2)))\n",
        "\n",
        "discriminator_model.add(Dropout(0.2))\n",
        "\n",
        "discriminator_model.add(Conv2D(128, \n",
        "                               kernel_size=(4, 4), \n",
        "                               strides=(2,2), \n",
        "                               padding='same', \n",
        "                               activation=LeakyReLU(alpha=0.2)))\n",
        "\n",
        "discriminator_model.add(Dropout(0.2))\n",
        "\n",
        "discriminator_model.add(Conv2D(128, \n",
        "                               kernel_size=(4, 4), \n",
        "                               strides=(2,2), \n",
        "                               padding='same', \n",
        "                               activation=LeakyReLU(alpha=0.2)))\n",
        "\n",
        "discriminator_model.add(Dropout(0.25))\n",
        "\n",
        "discriminator_model.add(Flatten())\n",
        "\n",
        "discriminator_model.add(Dense(1, activation='sigmoid'))\n",
        "\n",
        "discriminator_model.summary()"
      ]
    },
    {
      "cell_type": "code",
      "execution_count": null,
      "metadata": {
        "colab": {
          "base_uri": "https://localhost:8080/"
        },
        "id": "_1NikV3lrpJe",
        "outputId": "e18c2705-e5e2-4f4b-ddc0-0023b935511f"
      },
      "outputs": [
        {
          "name": "stdout",
          "output_type": "stream",
          "text": [
            "Model: \"sequential_7\"\n",
            "_________________________________________________________________\n",
            " Layer (type)                Output Shape              Param #   \n",
            "=================================================================\n",
            " dense_7 (Dense)             (None, 128, 128, 256)     1024      \n",
            "                                                                 \n",
            " dropout_13 (Dropout)        (None, 128, 128, 256)     0         \n",
            "                                                                 \n",
            " dense_8 (Dense)             (None, 128, 128, 128)     32896     \n",
            "                                                                 \n",
            " dropout_14 (Dropout)        (None, 128, 128, 128)     0         \n",
            "                                                                 \n",
            " dense_9 (Dense)             (None, 128, 128, 64)      8256      \n",
            "                                                                 \n",
            " dropout_15 (Dropout)        (None, 128, 128, 64)      0         \n",
            "                                                                 \n",
            " dense_10 (Dense)            (None, 128, 128, 32)      2080      \n",
            "                                                                 \n",
            " dropout_16 (Dropout)        (None, 128, 128, 32)      0         \n",
            "                                                                 \n",
            " flatten_4 (Flatten)         (None, 524288)            0         \n",
            "                                                                 \n",
            " dense_11 (Dense)            (None, 1)                 524289    \n",
            "                                                                 \n",
            "=================================================================\n",
            "Total params: 568,545\n",
            "Trainable params: 568,545\n",
            "Non-trainable params: 0\n",
            "_________________________________________________________________\n"
          ]
        }
      ],
      "source": [
        "input_shape=(128, 128, 3)\n",
        "\n",
        "discriminator_model = Sequential()\n",
        "\n",
        "discriminator_model.add(Dense(256, \n",
        "                              activation=LeakyReLU(alpha=0.2), \n",
        "                              input_shape=input_shape))\n",
        "\n",
        "discriminator_model.add(Dropout(0.2))\n",
        "\n",
        "discriminator_model.add(Dense(128, \n",
        "                               activation=LeakyReLU(alpha=0.2)))\n",
        "\n",
        "discriminator_model.add(Dropout(0.2))\n",
        "\n",
        "discriminator_model.add(Dense(64, \n",
        "                               activation=LeakyReLU(alpha=0.2)))\n",
        "\n",
        "discriminator_model.add(Dropout(0.2))\n",
        "\n",
        "discriminator_model.add(Dense(32, \n",
        "                               activation=LeakyReLU(alpha=0.2)))\n",
        "\n",
        "discriminator_model.add(Dropout(0.20))\n",
        "\n",
        "discriminator_model.add(Flatten())\n",
        "\n",
        "discriminator_model.add(Dense(1, activation='sigmoid'))\n",
        "\n",
        "discriminator_model.summary()"
      ]
    },
    {
      "cell_type": "code",
      "execution_count": null,
      "metadata": {
        "id": "iumM9_olYP65"
      },
      "outputs": [],
      "source": [
        "from tensorflow.keras.optimizers import Adam\n",
        "from tensorflow.keras.losses import BinaryCrossentropy\n",
        "\n",
        "loss_function = BinaryCrossentropy()\n",
        "\n",
        "generator_optimizer = Adam(learning_rate=1e-4)\n",
        "discriminator_optimizer = Adam(learning_rate=1e-4)"
      ]
    },
    {
      "cell_type": "code",
      "execution_count": null,
      "metadata": {
        "id": "1omfFiFTbQw5"
      },
      "outputs": [],
      "source": [
        "num_of_epochs = 200\n",
        "noise_dimension = 128"
      ]
    },
    {
      "cell_type": "markdown",
      "metadata": {
        "id": "u3lXQVEPS5fk"
      },
      "source": [
        "## Training Loop"
      ]
    },
    {
      "cell_type": "code",
      "execution_count": null,
      "metadata": {
        "id": "ciNJE-bybdsN"
      },
      "outputs": [],
      "source": [
        "from numpy.lib.function_base import gradient\n",
        "\n",
        "for epoch in range(num_of_epochs):\n",
        "  for i, image in enumerate(dataset):\n",
        "    start_time = time.time()\n",
        "    random_noise = tf.random.normal(shape=(batch_size, noise_dimension))\n",
        "\n",
        "    created_img = generator_model(random_noise)\n",
        "\n",
        "    if i%50==0:\n",
        "      img = keras.preprocessing.image.array_to_img(created_img[0])\n",
        "      img.save(f\"/content/drive/MyDrive/img_gens/gen_img__{epoch}_{i}_.png\")\n",
        "\n",
        "    with tf.GradientTape() as generator_tape, tf.GradientTape() as discriminator_tape:\n",
        "      generated_images = generator_model(random_noise)\n",
        "      generated_output = discriminator_model(generated_images)\n",
        "      generator_loss = loss_function(tf.ones_like(generated_output), generated_output)\n",
        "\n",
        "    \n",
        "      real_output = discriminator_model(image)\n",
        "      real_loss = loss_function(tf.ones_like(real_output), real_output)\n",
        "      generated_loss = loss_function(tf.zeros_like(generated_output), generated_output)\n",
        "      discriminator_loss = real_loss + generated_loss\n",
        "      \n",
        "\n",
        "    gradient_gen = generator_tape.gradient(generator_loss, generator_model.trainable_variables)\n",
        "    gradient_disc = discriminator_tape.gradient(discriminator_loss, discriminator_model.trainable_variables)\n",
        "\n",
        "    generator_optimizer.apply_gradients(zip(gradient_gen, generator_model.trainable_variables))\n",
        "\n",
        "    discriminator_optimizer.apply_gradients(zip(gradient_disc, discriminator_model.trainable_variables))\n",
        "\n",
        "  print(\"Current Epoch: {}\".format(epoch+1))\n",
        "\n"
      ]
    }
  ],
  "metadata": {
    "accelerator": "GPU",
    "colab": {
      "provenance": []
    },
    "gpuClass": "standard",
    "kernelspec": {
      "display_name": "Python 3",
      "name": "python3"
    },
    "language_info": {
      "name": "python"
    }
  },
  "nbformat": 4,
  "nbformat_minor": 0
}
